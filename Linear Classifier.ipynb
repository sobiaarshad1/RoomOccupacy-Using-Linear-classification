{
 "cells": [
  {
   "cell_type": "markdown",
   "id": "373ab264",
   "metadata": {},
   "source": [
    "                             Linear Classifier"
   ]
  },
  {
   "cell_type": "code",
   "execution_count": 1,
   "id": "d0a4cdad",
   "metadata": {},
   "outputs": [
    {
     "data": {
      "text/plain": [
       "[<matplotlib.lines.Line2D at 0x210cdabdfd0>]"
      ]
     },
     "execution_count": 1,
     "metadata": {},
     "output_type": "execute_result"
    },
    {
     "data": {
      "image/png": "[encoded data removed]",
      "text/plain": [
       "<Figure size 756x396 with 1 Axes>"
      ]
     },
     "metadata": {
      "needs_background": "light"
     },
     "output_type": "display_data"
    }
   ],
   "source": [
    "\n",
    "import pandas as pd\n",
    "import numpy as np\n",
    "from numpy import random\n",
    "import array\n",
    "from numpy import random\n",
    "import matplotlib.pyplot as plt\n",
    "from decimal import Decimal\n",
    "\n",
    "df = pd.read_csv('Roomoccupy.csv', delimiter= ',')\n",
    "org_df = df.copy()\n",
    "#normalizing data \n",
    "\n",
    "df=(df-df.min())/(df.max()-df.min())\n",
    "df\n",
    "\n",
    "df=df.iloc[0:,[0,1,2,3,4,5]]\n",
    "df=pd.DataFrame(df)\n",
    "\n",
    "# adding any 5 features in x_values array\n",
    "x_values=df.iloc[0:,0:5]\n",
    "x_values = np.array(x_values)\n",
    "\n",
    "# adding the predictive feature in y_values array\n",
    "y_values =df.iloc[0:,5]\n",
    "y_values= np.array(y_values) \n",
    "\n",
    "columns=5\n",
    "#w=np.random.randn(columns)\n",
    "w=np.zeros(columns)\n",
    "iteration=100\n",
    "eta=0.001\n",
    "\n",
    "def derivative_loss(x_values,y_values,margin):\n",
    "    d_loss = 0\n",
    "    if margin>1:\n",
    "        d_loss=0\n",
    "    else:  \n",
    "        d_loss = -(x_values*y_values)\n",
    "    return d_loss\n",
    "\n",
    "def hing_loss(x_values,y_values,w,iteration,eta):\n",
    "    train_arr = []\n",
    "    t_loss=0\n",
    "    for k in range(iteration):\n",
    "        t_loss=0\n",
    "        for i in range(2664): \n",
    "            score=np.dot(w, x_values[i])\n",
    "            s=np.array(score)\n",
    "            margin=score*y_values[i]\n",
    "            temp=1-margin\n",
    "            h_loss=max(temp,0)\n",
    "            t_loss += h_loss\n",
    "            d=derivative_loss(x_values[i],y_values[i],margin)\n",
    "            w = w - (eta*d)\n",
    "        train_loss=(1/2664)*t_loss\n",
    "        train_arr.insert(k, train_loss)\n",
    "    train_loss_arr=np.array(train_arr)\n",
    "    return train_loss_arr\n",
    "\n",
    "#graph for linear classifier\n",
    "plt.rcParams[\"figure.figsize\"] = [10.50, 5.50]\n",
    "plt.rcParams[\"figure.autolayout\"] = True\n",
    "hing=hing_loss(x_values,y_values,w,iteration,eta)\n",
    "y=hing\n",
    "it_arr = []\n",
    "for i in range(0,iteration):\n",
    "    t = i\n",
    "    it_arr.append(t)\n",
    "    \n",
    "iteration_array=np.array(it_arr)\n",
    "x=iteration_array\n",
    "plt.title(\"Linnear Classifier\")\n",
    "plt.xlabel(\"Iterations\")\n",
    "plt.ylabel(\"train loss\")\n",
    "plt.plot(x, y, color=\"Black\")\n"
   ]
  },
  {
   "cell_type": "code",
   "execution_count": null,
   "id": "77f3a72a",
   "metadata": {},
   "outputs": [],
   "source": []
  }
 ],
 "metadata": {
  "kernelspec": {
   "display_name": "Python 3 (ipykernel)",
   "language": "python",
   "name": "python3"
  },
  "language_info": {
   "codemirror_mode": {
    "name": "ipython",
    "version": 3
   },
   "file_extension": ".py",
   "mimetype": "text/x-python",
   "name": "python",
   "nbconvert_exporter": "python",
   "pygments_lexer": "ipython3",
   "version": "3.9.12"
  }
 },
 "nbformat": 4,
 "nbformat_minor": 5
}
